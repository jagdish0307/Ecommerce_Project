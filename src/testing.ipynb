{
 "cells": [
  {
   "cell_type": "code",
   "execution_count": 1,
   "id": "3d287305",
   "metadata": {},
   "outputs": [
    {
     "data": {
      "application/vnd.jupyter.widget-view+json": {
       "model_id": "101612b2d2a84cad8e6e0d6a005449a9",
       "version_major": 2,
       "version_minor": 0
      },
      "text/plain": [
       "IntSlider(value=0)"
      ]
     },
     "execution_count": 1,
     "metadata": {},
     "output_type": "execute_result"
    }
   ],
   "source": [
    "import ipywidgets as widgets\n",
    "from IPython.display import display\n",
    "\n",
    "widgets.IntSlider()  # test widget"
   ]
  },
  {
   "cell_type": "code",
   "execution_count": 2,
   "id": "8015c2e1",
   "metadata": {},
   "outputs": [
    {
     "name": "stderr",
     "output_type": "stream",
     "text": [
      "c:\\Users\\jagdi\\BuyGenie Flask-based e-commerce project\\src\\agent_handler.py:27: LangChainDeprecationWarning: Please see the migration guide at: https://python.langchain.com/docs/versions/migrating_memory/\n",
      "  memory = ConversationBufferMemory(memory_key=\"chat_history\", return_messages=True)\n"
     ]
    }
   ],
   "source": [
    "# Cell 1: Imports and setup\n",
    "import pandas as pd\n",
    "import sqlite3\n",
    "from IPython.display import display, Markdown, clear_output\n",
    "import ipywidgets as widgets\n",
    "\n",
    "from search_handler import search_laptops\n",
    "from user_history import log_user_interaction, get_user_history\n",
    "from agent_handler import query_assistant\n",
    "from llm_recommendation import generate_recommendation\n",
    "\n",
    "user_id = \"user123\"\n"
   ]
  },
  {
   "cell_type": "code",
   "execution_count": 16,
   "id": "6696bf0e",
   "metadata": {},
   "outputs": [
    {
     "data": {
      "text/markdown": [
       "## 💻 BuyGenie - Jupyter Notebook Interface"
      ],
      "text/plain": [
       "<IPython.core.display.Markdown object>"
      ]
     },
     "metadata": {},
     "output_type": "display_data"
    },
    {
     "data": {
      "application/vnd.jupyter.widget-view+json": {
       "model_id": "17ae730dc78b4719be2ee29f1d25ddda",
       "version_major": 2,
       "version_minor": 0
      },
      "text/plain": [
       "Textarea(value='', description='Query:', layout=Layout(height='80px', width='100%'), placeholder='What kind of…"
      ]
     },
     "metadata": {},
     "output_type": "display_data"
    },
    {
     "data": {
      "application/vnd.jupyter.widget-view+json": {
       "model_id": "51c6e6b0b06f4f4c81fdfde89c95cca7",
       "version_major": 2,
       "version_minor": 0
      },
      "text/plain": [
       "Button(button_style='primary', description='🔍 Search + Recommend', style=ButtonStyle())"
      ]
     },
     "metadata": {},
     "output_type": "display_data"
    },
    {
     "data": {
      "application/vnd.jupyter.widget-view+json": {
       "model_id": "1d457199ffa74071b8176202ab2beb01",
       "version_major": 2,
       "version_minor": 0
      },
      "text/plain": [
       "Output()"
      ]
     },
     "metadata": {},
     "output_type": "display_data"
    }
   ],
   "source": [
    "import ipywidgets as widgets\n",
    "from IPython.display import display, Markdown, clear_output, HTML\n",
    "import sqlite3\n",
    "import pandas as pd\n",
    "\n",
    "from search_handler import search_laptops\n",
    "from llm_recommendation import generate_recommendation\n",
    "\n",
    "# --- History storage ---\n",
    "chat_history = []\n",
    "\n",
    "# --- Widgets ---\n",
    "query_input = widgets.Textarea(\n",
    "    placeholder='What kind of laptop are you looking for?',\n",
    "    description='Query:',\n",
    "    layout=widgets.Layout(width='100%', height='80px')\n",
    ")\n",
    "submit_button = widgets.Button(description=\"🔍 Search + Recommend\", button_style='primary')\n",
    "output_area = widgets.Output()\n",
    "\n",
    "# --- Button callback ---\n",
    "def on_submit(b):\n",
    "    query = query_input.value.strip()\n",
    "    if not query:\n",
    "        with output_area:\n",
    "            clear_output()\n",
    "            display(Markdown(\"❗ Please enter a query.\"))\n",
    "        return\n",
    "\n",
    "    # Process user query\n",
    "    try:\n",
    "        # ----- Perform Search -----\n",
    "        df = search_laptops(query)\n",
    "        if isinstance(df, str):\n",
    "            result_md = f\"❌ {df}\"\n",
    "        elif df.empty:\n",
    "            result_md = \"⚠️ No laptops matched your query.\"\n",
    "        else:\n",
    "            result_md = \"### 🔎 Top 5 Matching Laptops\\n\"\n",
    "            for i, (_, row) in enumerate(df.head(5).iterrows()):\n",
    "                result_md += f\"\"\"\n",
    "**{i+1}. {row['Company']} {row['Product']}**\n",
    "- 💾 RAM: {row['Ram']}GB | 💽 {row['PrimaryStorage']}GB {row['PrimaryStorageType']}\n",
    "- 🎮 GPU: {row['GPU_model']} | 💰 Price: €{row['Price_euros']} | ⚖️ {row['Weight']}kg\n",
    "---\n",
    "\"\"\"\n",
    "\n",
    "        # ----- Perform Recommendation -----\n",
    "        conn = sqlite3.connect(\"db/laptops.db\")\n",
    "        test_df = pd.read_sql_query(\"SELECT * FROM laptops LIMIT 3\", conn)\n",
    "        conn.close()\n",
    "        recommendation = generate_recommendation(query, test_df)\n",
    "\n",
    "        # Save to history\n",
    "        chat_history.append({\n",
    "            \"query\": query,\n",
    "            \"results\": result_md,\n",
    "            \"recommendation\": recommendation\n",
    "        })\n",
    "\n",
    "        # Display all history\n",
    "        with output_area:\n",
    "            clear_output()\n",
    "            display(Markdown(\"## 🕓 Chat History\"))\n",
    "            for idx, entry in enumerate(chat_history):\n",
    "                display(Markdown(f\"### 🔹 Query {idx + 1}: `{entry['query']}`\"))\n",
    "                display(Markdown(entry[\"results\"]))\n",
    "                display(HTML(f\"<div style='background-color: #4CAF50; color: white; padding: 15px; border-radius: 5px;'>💡 {entry['recommendation']}</div>\"))\n",
    "                display(Markdown(\"---\"))\n",
    "\n",
    "    except Exception as e:\n",
    "        with output_area:\n",
    "            clear_output()\n",
    "            display(Markdown(f\"❗ **Error:** {str(e)}\"))\n",
    "\n",
    "# Hook button\n",
    "submit_button.on_click(on_submit)\n",
    "\n",
    "# --- UI Layout ---\n",
    "display(Markdown(\"## 💻 BuyGenie - Jupyter Notebook Interface\"))\n",
    "display(query_input, submit_button, output_area)\n"
   ]
  },
  {
   "cell_type": "code",
   "execution_count": null,
   "id": "289f0deb",
   "metadata": {},
   "outputs": [
    {
     "data": {
      "text/markdown": [
       "### 🧞 Ask the Laptop Assistant"
      ],
      "text/plain": [
       "<IPython.core.display.Markdown object>"
      ]
     },
     "metadata": {},
     "output_type": "display_data"
    },
    {
     "data": {
      "application/vnd.jupyter.widget-view+json": {
       "model_id": "60e0385d425442949df26ee9aa095b44",
       "version_major": 2,
       "version_minor": 0
      },
      "text/plain": [
       "Textarea(value='', description='Your Question:', layout=Layout(height='100px', width='100%'), placeholder='Ask…"
      ]
     },
     "metadata": {},
     "output_type": "display_data"
    },
    {
     "data": {
      "application/vnd.jupyter.widget-view+json": {
       "model_id": "c894e772997a4440b12e78946cb273f7",
       "version_major": 2,
       "version_minor": 0
      },
      "text/plain": [
       "Button(button_style='success', description='💬 Ask Assistant', style=ButtonStyle())"
      ]
     },
     "metadata": {},
     "output_type": "display_data"
    },
    {
     "data": {
      "application/vnd.jupyter.widget-view+json": {
       "model_id": "b8846d7cf11046f0ae14ca87302592df",
       "version_major": 2,
       "version_minor": 0
      },
      "text/plain": [
       "Output()"
      ]
     },
     "metadata": {},
     "output_type": "display_data"
    }
   ],
   "source": [
    "import ipywidgets as widgets\n",
    "from IPython.display import display, Markdown\n",
    "from agent_handler import query_assistant  # Ensure your function is available\n",
    "\n",
    "# Create widgets\n",
    "agent_input = widgets.Textarea(\n",
    "    placeholder='Ask your question about laptops...',\n",
    "    description='Your Question:',\n",
    "    layout=widgets.Layout(width='100%', height='100px')\n",
    ")\n",
    "\n",
    "submit_button = widgets.Button(description=\"💬 Ask Assistant\", button_style='success')\n",
    "agent_chat_output = widgets.Output()\n",
    "agent_chat_history = []  # Store Q&A history\n",
    "\n",
    "# Define button click handler\n",
    "def on_button_click(b):\n",
    "    question = agent_input.value.strip()\n",
    "    if not question:\n",
    "        return\n",
    "\n",
    "    agent_input.value = \"\"  # Clear input\n",
    "    response = query_assistant(question)\n",
    "\n",
    "    agent_chat_history.append((question, response))\n",
    "\n",
    "    # Re-render the conversation\n",
    "    agent_chat_output.clear_output()\n",
    "    with agent_chat_output:\n",
    "        display(Markdown(\"### 🧞 Assistant Chat Log\"))\n",
    "        for q, a in agent_chat_history:\n",
    "            display(Markdown(f\"**You:** {q}\"))\n",
    "            display(Markdown(f\"**Assistant:** {a}\"))\n",
    "            display(Markdown(\"---\"))\n",
    "\n",
    "# Connect the button\n",
    "submit_button.on_click(on_button_click)\n",
    "\n",
    "# Display widgets\n",
    "display(Markdown(\"### 🧞 Ask the Laptop Assistant\"))\n",
    "display(agent_input, submit_button, agent_chat_output)\n"
   ]
  },
  {
   "cell_type": "code",
   "execution_count": null,
   "id": "15ca2514",
   "metadata": {},
   "outputs": [],
   "source": []
  }
 ],
 "metadata": {
  "kernelspec": {
   "display_name": ".ecommerce_env",
   "language": "python",
   "name": "python3"
  },
  "language_info": {
   "codemirror_mode": {
    "name": "ipython",
    "version": 3
   },
   "file_extension": ".py",
   "mimetype": "text/x-python",
   "name": "python",
   "nbconvert_exporter": "python",
   "pygments_lexer": "ipython3",
   "version": "3.10.11"
  }
 },
 "nbformat": 4,
 "nbformat_minor": 5
}
